{
 "cells": [
  {
   "cell_type": "markdown",
   "metadata": {},
   "source": [
    "# 明日方舟抽卡 六星概率分析\n",
    "使用 普通方法/Markov Chain方法/Monte Carlo方法 分析明日方舟抽卡获得六星的综合概率"
   ]
  },
  {
   "cell_type": "code",
   "execution_count": 1,
   "metadata": {},
   "outputs": [],
   "source": [
    "import numpy as np\n",
    "import matplotlib.pyplot as plt\n",
    "from scipy.special import comb"
   ]
  },
  {
   "cell_type": "markdown",
   "metadata": {},
   "source": [
    "## 1. 普通方法\n",
    "借用[十连白光分析](http://localhost:8888/notebooks/ten-pull_events_analyses.ipynb)中的思路与代码\n",
    "\n",
    "考虑一个无限次抽卡的序列，每相邻两次六星之间的抽数间隔是一个随机变量，记作$N_{int}$。六星卡在序列中占的比例即为综合概率$p_6'$，有\n",
    "$$\n",
    "    p_6' = \\frac{1}{\\mathbf{E}[N_{int}]+1}\n",
    "$$\n",
    "该抽数期望在玩家中已基本达成共识($\\mathbf{E}[N_{int}]+1=34.59$)，为保证结论严谨，仍将计算过程写出。\n",
    "\n",
    "将“连续n抽没有六星的前提下，下一抽抽到六星的概率”记为$\\mathbf{P}[6 | N_{int}=n]$。\n",
    "$$\n",
    "    \\mathbf{P}[6 \\mid N_{int}=n] = 0.02, \\quad\\quad\\quad\\quad n=0,1,\\ldots,49\\quad \\\\\n",
    "    \\mathbf{P}[6 \\mid N_{int}=n] = 0.02 (n-48), \\quad n=50,51,\\ldots,98\n",
    "$$\n",
    "\n",
    "将“连续n抽没有六星，且第n+1抽抽到六星的概率”记为$\\mathbf{P}[N_{int}=n]$。\n",
    "$$\n",
    "    \\mathbf{P}[N_{int}=n] = \\prod_{k=0}^{n-1} (1-\\mathbf{P}[6 \\mid N_{no6}=k]) \n",
    "        \\times \\mathbf{P}[6 \\mid N_{int}=n]\n",
    "$$\n",
    "\n",
    "最后可求得\n",
    "$$\n",
    "    p_6' = 0.0289\n",
    "$$\n",
    "\n",
    "以下为有关代码"
   ]
  },
  {
   "cell_type": "code",
   "execution_count": 2,
   "metadata": {},
   "outputs": [
    {
     "name": "stdout",
     "output_type": "stream",
     "text": [
      "抽出六星干员需要的抽数期望为：34.59\n",
      "不触发保底时，抽出六星干员的概率为：0.02\n",
      "考虑保底，抽出六星干员的综合概率为：0.02891\n"
     ]
    }
   ],
   "source": [
    "# some constants\n",
    "p6 = 0.02\n",
    "n_nor = 50 # pulls with normal probability \n",
    "n_abnor = int((1-p6)/0.02) # pulls with increased probability\n",
    "\n",
    "# after n pulls without 6, the probability of pull 6. n in 0-98\n",
    "p6_list = [p6 for n in range(0,n_nor)] + [0.02*(n-n_nor+2) for n in range(n_nor,n_nor+n_abnor)] \n",
    "p6_list = np.array(p6_list)\n",
    "\n",
    "# after probability of n pulls without 6 and pull six. n in 0-98\n",
    "pint_list = [np.prod(1-p6_list[0:n]) * p6_list[n] for n in range(0,99)]\n",
    "pint_list = np.array(pint_list)\n",
    "\n",
    "# the comprehensive probability of pulling 6\n",
    "N_exp = np.sum(np.arange(99)*pint_list)+1\n",
    "p6_prime = 1/N_exp\n",
    "\n",
    "print(\"抽出六星干员需要的抽数期望为：{:.4g}\".format(N_exp))\n",
    "print(\"不触发保底时，抽出六星干员的概率为：{:.4g}\".format(p6))\n",
    "print(\"考虑保底，抽出六星干员的综合概率为：{:.4g}\".format(p6_prime))"
   ]
  },
  {
   "cell_type": "markdown",
   "metadata": {},
   "source": [
    "## 2. Markov Chain方法\n",
    "将抽卡看作一个Markov过程，定义“与上次抽到六星间隔$n$抽”为状态$n$，$n=0,1,2,\\ldots,98$。处于状态$k$时，一次抽卡产生一次状态转移：抽到六星，就转移至状态0；没抽到六星，就转移到状态$k+1$。\n",
    "\n",
    "状态转移矩阵为$P$，定义如下(保险起见，用code cell写latex，markdown cell在GitHub上有时会显示错误)"
   ]
  },
  {
   "cell_type": "code",
   "execution_count": 3,
   "metadata": {},
   "outputs": [
    {
     "data": {
      "text/latex": [
       "$$\n",
       "    P = \\begin{bmatrix}\n",
       "        P_1 & \\begin{bmatrix}\n",
       "            P_2 \\\\ \\mathbf{0}\n",
       "        \\end{bmatrix}\n",
       "    \\end{bmatrix}\n",
       "    \\\\ \\\\\n",
       "$$\n",
       "其中 $P_1$ 是一个99x1的列向量，前50个元素均为0.02，第51-99个元素为0.04,0.06,...1。\n",
       "$$\n",
       "    P_1 = [0.02, 0.02, \\ldots, 0.02, 0.04, 0.06, \\ldots, 0.98, 1]^T\n",
       "    \\\\ \\\\\n",
       "$$\n",
       "\n",
       "$P_2$ 是一个98x98的对角矩阵，对角线上前50个元素为0.98，第51-98个元素为0.96,0.94,...0.02。这样，恰保证$P$每行元素之和均为1。\n",
       "$$\n",
       "    P_2 = diag([0.98, 0.98, \\ldots, 0.98, 0.96, 0.94, \\ldots, 0.04, 0.02])\n",
       "    \\\\ \\\\\n",
       "$$\n",
       "最终，得到的 $P$ 是一个99x99的矩阵，形式如下\n",
       "$$\n",
       "    P = \\begin{bmatrix}\n",
       "        0.02 & 0.98 & 0 & \\dots &&&& \\dots & 0 \\\\\n",
       "        0.02 & 0 & 0.98 & \\dots &&&& \\dots & 0 \\\\\n",
       "        \\vdots &&& \\ddots &&&&& \\vdots \\\\\n",
       "        0.02 & 0 & \\dots && 0.98 &&& \\dots \\\\\n",
       "        0.04 & 0 & \\dots &&& 0.96 && \\dots \\\\\n",
       "        0.06 & 0 & \\dots &&&& 0.94 & \\dots \\\\\n",
       "        \\vdots &&&&&&& \\ddots \\\\\n",
       "        0.98 & 0 & \\dots &&&&& \\dots & 0.02 \\\\\n",
       "        1 & 0 & \\dots &&&&& \\dots & 0 \\\\\n",
       "    \\end{bmatrix}\n",
       "$$\n"
      ],
      "text/plain": [
       "<IPython.core.display.Latex object>"
      ]
     },
     "metadata": {},
     "output_type": "display_data"
    }
   ],
   "source": [
    "%%latex\n",
    "$$\n",
    "    P = \\begin{bmatrix}\n",
    "        P_1 & \\begin{bmatrix}\n",
    "            P_2 \\\\ \\mathbf{0}\n",
    "        \\end{bmatrix}\n",
    "    \\end{bmatrix}\n",
    "    \\\\ \\\\\n",
    "$$\n",
    "其中 $P_1$ 是一个99x1的列向量，前50个元素均为0.02，第51-99个元素为0.04,0.06,...1。\n",
    "$$\n",
    "    P_1 = [0.02, 0.02, \\ldots, 0.02, 0.04, 0.06, \\ldots, 0.98, 1]^T\n",
    "    \\\\ \\\\\n",
    "$$\n",
    "\n",
    "$P_2$ 是一个98x98的对角矩阵，对角线上前50个元素为0.98，第51-98个元素为0.96,0.94,...0.02。这样，恰保证$P$每行元素之和均为1。\n",
    "$$\n",
    "    P_2 = diag([0.98, 0.98, \\ldots, 0.98, 0.96, 0.94, \\ldots, 0.04, 0.02])\n",
    "    \\\\ \\\\\n",
    "$$\n",
    "最终，得到的 $P$ 是一个99x99的矩阵，形式如下\n",
    "$$\n",
    "    P = \\begin{bmatrix}\n",
    "        0.02 & 0.98 & 0 & \\dots &&&& \\dots & 0 \\\\\n",
    "        0.02 & 0 & 0.98 & \\dots &&&& \\dots & 0 \\\\\n",
    "        \\vdots &&& \\ddots &&&&& \\vdots \\\\\n",
    "        0.02 & 0 & \\dots && 0.98 &&& \\dots \\\\\n",
    "        0.04 & 0 & \\dots &&& 0.96 && \\dots \\\\\n",
    "        0.06 & 0 & \\dots &&&& 0.94 & \\dots \\\\\n",
    "        \\vdots &&&&&&& \\ddots \\\\\n",
    "        0.98 & 0 & \\dots &&&&& \\dots & 0.02 \\\\\n",
    "        1 & 0 & \\dots &&&&& \\dots & 0 \\\\\n",
    "    \\end{bmatrix}\n",
    "$$"
   ]
  },
  {
   "cell_type": "markdown",
   "metadata": {},
   "source": [
    "可直接求解该Markov Chain的稳定分布$\\pi$来算出六星出率。出率是如何与稳定分布$\\pi$联系起来的呢？\n",
    "\n",
    "因为“抽出六星” = 进入“与上次抽到六星间隔0抽”的状态 = 转移到状态0。而稳定分布是转移次数趋于无穷大时的分布，稳定分布处于状态0的概率，就是无穷多抽后，每一抽的六星出率。\n",
    "\n",
    "$pi$满足条件：\n",
    "$$\n",
    "    \\pi P = \\pi \\\\\n",
    "    \\pi \\mathbf{i} = 1\n",
    "$$\n",
    "其中$\\mathbf{i}$是值均为1的列向量。令\n",
    "$$\n",
    "    A = \\begin{bmatrix}\n",
    "        \\begin{bmatrix}\n",
    "            (P^T - I)\n",
    "        \\end{bmatrix} \\\\\n",
    "        \\mathbf{i}^T\n",
    "    \\end{bmatrix} \\\\\n",
    "    \\mathbf{b} = [0,0,\\ldots,0,1]^T\n",
    "$$\n",
    "有\n",
    "$$\n",
    "    A \\pi^T = \\mathbf{b}\n",
    "$$\n",
    "实际求解时，需解(据说是依据Rouché–Capelli theorem，我觉得用SVD也可以解释？)\n",
    "$$\n",
    "    (A^T A) \\pi^T = A^T \\mathbf{b}\n",
    "$$"
   ]
  },
  {
   "cell_type": "code",
   "execution_count": 4,
   "metadata": {},
   "outputs": [
    {
     "name": "stdout",
     "output_type": "stream",
     "text": [
      "状态转移矩阵为：\n",
      "[[0.02 0.98 0.   ... 0.   0.   0.  ]\n",
      " [0.02 0.   0.98 ... 0.   0.   0.  ]\n",
      " [0.02 0.   0.   ... 0.   0.   0.  ]\n",
      " ...\n",
      " [0.96 0.   0.   ... 0.   0.04 0.  ]\n",
      " [0.98 0.   0.   ... 0.   0.   0.02]\n",
      " [1.   0.   0.   ... 0.   0.   0.  ]]\n"
     ]
    }
   ],
   "source": [
    "P1 = np.expand_dims(p6_list,1)\n",
    "P2_prime = np.diag(1-p6_list)\n",
    "P = np.concatenate([P1,P2_prime],1)[:,:-1]\n",
    "I = np.diag(np.ones_like(p6_list))\n",
    "A = np.pad(np.transpose(P)-I,\n",
    "    ((0,1),(0,0)), mode='constant', constant_values=1)\n",
    "b = np.zeros_like(A[:,0])\n",
    "b[-1] = 1\n",
    "print(\"状态转移矩阵为：\")\n",
    "print(P)"
   ]
  },
  {
   "cell_type": "code",
   "execution_count": 5,
   "metadata": {
    "scrolled": false
   },
   "outputs": [
    {
     "name": "stdout",
     "output_type": "stream",
     "text": [
      "六星出率为：0.02891，与普通方法结果一致\n"
     ]
    }
   ],
   "source": [
    "pi_vec = np.linalg.solve(np.transpose(A)@A, np.transpose(A)@b)\n",
    "\n",
    "assert np.abs(pi_vec[0]-p6_prime) < 1e-8, \"Markov方法与普通方法结果不同？？！\"\n",
    "print(\"六星出率为：{:.4g}，与普通方法结果一致\".format(pi_vec[0]))"
   ]
  },
  {
   "cell_type": "markdown",
   "metadata": {},
   "source": [
    "## 3. Monte Carlo方法\n",
    "尚在编程中..."
   ]
  },
  {
   "cell_type": "code",
   "execution_count": null,
   "metadata": {},
   "outputs": [],
   "source": []
  }
 ],
 "metadata": {
  "kernelspec": {
   "display_name": "Python 3",
   "language": "python",
   "name": "python3"
  },
  "language_info": {
   "codemirror_mode": {
    "name": "ipython",
    "version": 3
   },
   "file_extension": ".py",
   "mimetype": "text/x-python",
   "name": "python",
   "nbconvert_exporter": "python",
   "pygments_lexer": "ipython3",
   "version": "3.7.6"
  }
 },
 "nbformat": 4,
 "nbformat_minor": 4
}
